{
 "cells": [
  {
   "cell_type": "code",
   "execution_count": null,
   "id": "fff49cd3",
   "metadata": {},
   "outputs": [],
   "source": [
    "url = 'https://docs.google.com/spreadsheets/d/e/2PACX-1vQlEs3FxFPwm-dpvU1YdsfRgsbfT9WdiXJHZm9kJgGTziPnk-y3TWtftbSbxj6Fe_g0NxYgqyVHTVU5/pubhtml?gid=1397577608&amp;single=true&amp;widget=true&amp;headers=false'"
   ]
  },
  {
   "cell_type": "code",
   "execution_count": null,
   "id": "9b084f52",
   "metadata": {},
   "outputs": [],
   "source": [
    "import pandas as pd\n",
    "dfs = pd.read_html(url)\n",
    "df=dfs[0]\n",
    "df.to_csv(\"provide.csv\")"
   ]
  },
  {
   "cell_type": "code",
   "execution_count": 1,
   "id": "a58569ff",
   "metadata": {},
   "outputs": [],
   "source": [
    "import json\n",
    "json.load(open('metadata.json'))\n",
    "  \n",
    "# returns JSON object as \n",
    "# a dictionary\n",
    "data = "
   ]
  },
  {
   "cell_type": "code",
   "execution_count": 2,
   "id": "9028306e",
   "metadata": {},
   "outputs": [
    {
     "data": {
      "text/plain": [
       "{'name': 'thailand_gdp02',\n",
       " 'title': 'THAILAND_GDP',\n",
       " 'notes': 'ข้อมูลผลิตภัณฑ์มวลรวม รายจังหวัด ย้อนหลังปีตั้งแต่ ค.ศ.2009 ถึง 2019',\n",
       " 'data_type': 'ข้อมูลสถิติ',\n",
       " 'owner_org': 'tu',\n",
       " 'data_source': '-',\n",
       " 'maintainer': '-',\n",
       " 'update_frequency_unit': 'ปี',\n",
       " 'data_format': ['CSV'],\n",
       " 'maintainer_email': 'tu@sci.com',\n",
       " 'objective': ['ยุทธศาสตร์ชาติ', 'แผนพัฒนาเศรษฐกิจและสังคมแห่งชาติ'],\n",
       " 'data_category': 'ข้อมูลสาธารณะ',\n",
       " 'geo_coverage': 'ประเทศ',\n",
       " 'license_id': 'License not specified'}"
      ]
     },
     "execution_count": 2,
     "metadata": {},
     "output_type": "execute_result"
    }
   ],
   "source": [
    "data"
   ]
  }
 ],
 "metadata": {
  "kernelspec": {
   "display_name": "Python 3 (ipykernel)",
   "language": "python",
   "name": "python3"
  },
  "language_info": {
   "codemirror_mode": {
    "name": "ipython",
    "version": 3
   },
   "file_extension": ".py",
   "mimetype": "text/x-python",
   "name": "python",
   "nbconvert_exporter": "python",
   "pygments_lexer": "ipython3",
   "version": "3.7.9"
  }
 },
 "nbformat": 4,
 "nbformat_minor": 5
}
